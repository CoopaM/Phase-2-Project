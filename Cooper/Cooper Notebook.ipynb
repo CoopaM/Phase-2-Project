{
 "cells": [
  {
   "cell_type": "markdown",
   "metadata": {},
   "source": [
    "# Price Prediction Project"
   ]
  },
  {
   "cell_type": "code",
   "execution_count": 1,
   "metadata": {},
   "outputs": [],
   "source": [
    "import pandas as pd\n",
    "import numpy as np\n",
    "\n",
    "import matplotlib.pyplot as plt\n",
    "import seaborn as sns\n",
    "\n",
    "import statsmodels.api as sm\n",
    "from sklearn.model_selection import train_test_split\n",
    "from sklearn.preprocessing import OneHotEncoder\n",
    "from sklearn.compose import ColumnTransformer\n",
    "from sklearn.preprocessing import StandardScaler, MinMaxScaler\n",
    "from sklearn.linear_model import LinearRegression\n",
    "from sklearn.metrics import r2_score, mean_squared_error, mean_absolute_error"
   ]
  },
  {
   "cell_type": "markdown",
   "metadata": {},
   "source": [
    "## Data Analysis"
   ]
  },
  {
   "cell_type": "code",
   "execution_count": 2,
   "metadata": {},
   "outputs": [],
   "source": [
    "df = pd.read_csv('../data/kc_house_data.csv')"
   ]
  },
  {
   "cell_type": "code",
   "execution_count": 3,
   "metadata": {},
   "outputs": [
    {
     "data": {
      "text/html": [
       "<div>\n",
       "<style scoped>\n",
       "    .dataframe tbody tr th:only-of-type {\n",
       "        vertical-align: middle;\n",
       "    }\n",
       "\n",
       "    .dataframe tbody tr th {\n",
       "        vertical-align: top;\n",
       "    }\n",
       "\n",
       "    .dataframe thead th {\n",
       "        text-align: right;\n",
       "    }\n",
       "</style>\n",
       "<table border=\"1\" class=\"dataframe\">\n",
       "  <thead>\n",
       "    <tr style=\"text-align: right;\">\n",
       "      <th></th>\n",
       "      <th>id</th>\n",
       "      <th>date</th>\n",
       "      <th>price</th>\n",
       "      <th>bedrooms</th>\n",
       "      <th>bathrooms</th>\n",
       "      <th>sqft_living</th>\n",
       "      <th>sqft_lot</th>\n",
       "      <th>floors</th>\n",
       "      <th>waterfront</th>\n",
       "      <th>view</th>\n",
       "      <th>...</th>\n",
       "      <th>grade</th>\n",
       "      <th>sqft_above</th>\n",
       "      <th>sqft_basement</th>\n",
       "      <th>yr_built</th>\n",
       "      <th>yr_renovated</th>\n",
       "      <th>zipcode</th>\n",
       "      <th>lat</th>\n",
       "      <th>long</th>\n",
       "      <th>sqft_living15</th>\n",
       "      <th>sqft_lot15</th>\n",
       "    </tr>\n",
       "  </thead>\n",
       "  <tbody>\n",
       "    <tr>\n",
       "      <th>0</th>\n",
       "      <td>7129300520</td>\n",
       "      <td>10/13/2014</td>\n",
       "      <td>221900.0</td>\n",
       "      <td>3</td>\n",
       "      <td>1.00</td>\n",
       "      <td>1180</td>\n",
       "      <td>5650</td>\n",
       "      <td>1.0</td>\n",
       "      <td>NaN</td>\n",
       "      <td>NONE</td>\n",
       "      <td>...</td>\n",
       "      <td>7 Average</td>\n",
       "      <td>1180</td>\n",
       "      <td>0.0</td>\n",
       "      <td>1955</td>\n",
       "      <td>0.0</td>\n",
       "      <td>98178</td>\n",
       "      <td>47.5112</td>\n",
       "      <td>-122.257</td>\n",
       "      <td>1340</td>\n",
       "      <td>5650</td>\n",
       "    </tr>\n",
       "    <tr>\n",
       "      <th>1</th>\n",
       "      <td>6414100192</td>\n",
       "      <td>12/9/2014</td>\n",
       "      <td>538000.0</td>\n",
       "      <td>3</td>\n",
       "      <td>2.25</td>\n",
       "      <td>2570</td>\n",
       "      <td>7242</td>\n",
       "      <td>2.0</td>\n",
       "      <td>NO</td>\n",
       "      <td>NONE</td>\n",
       "      <td>...</td>\n",
       "      <td>7 Average</td>\n",
       "      <td>2170</td>\n",
       "      <td>400.0</td>\n",
       "      <td>1951</td>\n",
       "      <td>1991.0</td>\n",
       "      <td>98125</td>\n",
       "      <td>47.7210</td>\n",
       "      <td>-122.319</td>\n",
       "      <td>1690</td>\n",
       "      <td>7639</td>\n",
       "    </tr>\n",
       "    <tr>\n",
       "      <th>2</th>\n",
       "      <td>5631500400</td>\n",
       "      <td>2/25/2015</td>\n",
       "      <td>180000.0</td>\n",
       "      <td>2</td>\n",
       "      <td>1.00</td>\n",
       "      <td>770</td>\n",
       "      <td>10000</td>\n",
       "      <td>1.0</td>\n",
       "      <td>NO</td>\n",
       "      <td>NONE</td>\n",
       "      <td>...</td>\n",
       "      <td>6 Low Average</td>\n",
       "      <td>770</td>\n",
       "      <td>0.0</td>\n",
       "      <td>1933</td>\n",
       "      <td>NaN</td>\n",
       "      <td>98028</td>\n",
       "      <td>47.7379</td>\n",
       "      <td>-122.233</td>\n",
       "      <td>2720</td>\n",
       "      <td>8062</td>\n",
       "    </tr>\n",
       "    <tr>\n",
       "      <th>3</th>\n",
       "      <td>2487200875</td>\n",
       "      <td>12/9/2014</td>\n",
       "      <td>604000.0</td>\n",
       "      <td>4</td>\n",
       "      <td>3.00</td>\n",
       "      <td>1960</td>\n",
       "      <td>5000</td>\n",
       "      <td>1.0</td>\n",
       "      <td>NO</td>\n",
       "      <td>NONE</td>\n",
       "      <td>...</td>\n",
       "      <td>7 Average</td>\n",
       "      <td>1050</td>\n",
       "      <td>910.0</td>\n",
       "      <td>1965</td>\n",
       "      <td>0.0</td>\n",
       "      <td>98136</td>\n",
       "      <td>47.5208</td>\n",
       "      <td>-122.393</td>\n",
       "      <td>1360</td>\n",
       "      <td>5000</td>\n",
       "    </tr>\n",
       "    <tr>\n",
       "      <th>4</th>\n",
       "      <td>1954400510</td>\n",
       "      <td>2/18/2015</td>\n",
       "      <td>510000.0</td>\n",
       "      <td>3</td>\n",
       "      <td>2.00</td>\n",
       "      <td>1680</td>\n",
       "      <td>8080</td>\n",
       "      <td>1.0</td>\n",
       "      <td>NO</td>\n",
       "      <td>NONE</td>\n",
       "      <td>...</td>\n",
       "      <td>8 Good</td>\n",
       "      <td>1680</td>\n",
       "      <td>0.0</td>\n",
       "      <td>1987</td>\n",
       "      <td>0.0</td>\n",
       "      <td>98074</td>\n",
       "      <td>47.6168</td>\n",
       "      <td>-122.045</td>\n",
       "      <td>1800</td>\n",
       "      <td>7503</td>\n",
       "    </tr>\n",
       "    <tr>\n",
       "      <th>...</th>\n",
       "      <td>...</td>\n",
       "      <td>...</td>\n",
       "      <td>...</td>\n",
       "      <td>...</td>\n",
       "      <td>...</td>\n",
       "      <td>...</td>\n",
       "      <td>...</td>\n",
       "      <td>...</td>\n",
       "      <td>...</td>\n",
       "      <td>...</td>\n",
       "      <td>...</td>\n",
       "      <td>...</td>\n",
       "      <td>...</td>\n",
       "      <td>...</td>\n",
       "      <td>...</td>\n",
       "      <td>...</td>\n",
       "      <td>...</td>\n",
       "      <td>...</td>\n",
       "      <td>...</td>\n",
       "      <td>...</td>\n",
       "      <td>...</td>\n",
       "    </tr>\n",
       "    <tr>\n",
       "      <th>21592</th>\n",
       "      <td>263000018</td>\n",
       "      <td>5/21/2014</td>\n",
       "      <td>360000.0</td>\n",
       "      <td>3</td>\n",
       "      <td>2.50</td>\n",
       "      <td>1530</td>\n",
       "      <td>1131</td>\n",
       "      <td>3.0</td>\n",
       "      <td>NO</td>\n",
       "      <td>NONE</td>\n",
       "      <td>...</td>\n",
       "      <td>8 Good</td>\n",
       "      <td>1530</td>\n",
       "      <td>0.0</td>\n",
       "      <td>2009</td>\n",
       "      <td>0.0</td>\n",
       "      <td>98103</td>\n",
       "      <td>47.6993</td>\n",
       "      <td>-122.346</td>\n",
       "      <td>1530</td>\n",
       "      <td>1509</td>\n",
       "    </tr>\n",
       "    <tr>\n",
       "      <th>21593</th>\n",
       "      <td>6600060120</td>\n",
       "      <td>2/23/2015</td>\n",
       "      <td>400000.0</td>\n",
       "      <td>4</td>\n",
       "      <td>2.50</td>\n",
       "      <td>2310</td>\n",
       "      <td>5813</td>\n",
       "      <td>2.0</td>\n",
       "      <td>NO</td>\n",
       "      <td>NONE</td>\n",
       "      <td>...</td>\n",
       "      <td>8 Good</td>\n",
       "      <td>2310</td>\n",
       "      <td>0.0</td>\n",
       "      <td>2014</td>\n",
       "      <td>0.0</td>\n",
       "      <td>98146</td>\n",
       "      <td>47.5107</td>\n",
       "      <td>-122.362</td>\n",
       "      <td>1830</td>\n",
       "      <td>7200</td>\n",
       "    </tr>\n",
       "    <tr>\n",
       "      <th>21594</th>\n",
       "      <td>1523300141</td>\n",
       "      <td>6/23/2014</td>\n",
       "      <td>402101.0</td>\n",
       "      <td>2</td>\n",
       "      <td>0.75</td>\n",
       "      <td>1020</td>\n",
       "      <td>1350</td>\n",
       "      <td>2.0</td>\n",
       "      <td>NO</td>\n",
       "      <td>NONE</td>\n",
       "      <td>...</td>\n",
       "      <td>7 Average</td>\n",
       "      <td>1020</td>\n",
       "      <td>0.0</td>\n",
       "      <td>2009</td>\n",
       "      <td>0.0</td>\n",
       "      <td>98144</td>\n",
       "      <td>47.5944</td>\n",
       "      <td>-122.299</td>\n",
       "      <td>1020</td>\n",
       "      <td>2007</td>\n",
       "    </tr>\n",
       "    <tr>\n",
       "      <th>21595</th>\n",
       "      <td>291310100</td>\n",
       "      <td>1/16/2015</td>\n",
       "      <td>400000.0</td>\n",
       "      <td>3</td>\n",
       "      <td>2.50</td>\n",
       "      <td>1600</td>\n",
       "      <td>2388</td>\n",
       "      <td>2.0</td>\n",
       "      <td>NaN</td>\n",
       "      <td>NONE</td>\n",
       "      <td>...</td>\n",
       "      <td>8 Good</td>\n",
       "      <td>1600</td>\n",
       "      <td>0.0</td>\n",
       "      <td>2004</td>\n",
       "      <td>0.0</td>\n",
       "      <td>98027</td>\n",
       "      <td>47.5345</td>\n",
       "      <td>-122.069</td>\n",
       "      <td>1410</td>\n",
       "      <td>1287</td>\n",
       "    </tr>\n",
       "    <tr>\n",
       "      <th>21596</th>\n",
       "      <td>1523300157</td>\n",
       "      <td>10/15/2014</td>\n",
       "      <td>325000.0</td>\n",
       "      <td>2</td>\n",
       "      <td>0.75</td>\n",
       "      <td>1020</td>\n",
       "      <td>1076</td>\n",
       "      <td>2.0</td>\n",
       "      <td>NO</td>\n",
       "      <td>NONE</td>\n",
       "      <td>...</td>\n",
       "      <td>7 Average</td>\n",
       "      <td>1020</td>\n",
       "      <td>0.0</td>\n",
       "      <td>2008</td>\n",
       "      <td>0.0</td>\n",
       "      <td>98144</td>\n",
       "      <td>47.5941</td>\n",
       "      <td>-122.299</td>\n",
       "      <td>1020</td>\n",
       "      <td>1357</td>\n",
       "    </tr>\n",
       "  </tbody>\n",
       "</table>\n",
       "<p>21597 rows × 21 columns</p>\n",
       "</div>"
      ],
      "text/plain": [
       "               id        date     price  bedrooms  bathrooms  sqft_living  \\\n",
       "0      7129300520  10/13/2014  221900.0         3       1.00         1180   \n",
       "1      6414100192   12/9/2014  538000.0         3       2.25         2570   \n",
       "2      5631500400   2/25/2015  180000.0         2       1.00          770   \n",
       "3      2487200875   12/9/2014  604000.0         4       3.00         1960   \n",
       "4      1954400510   2/18/2015  510000.0         3       2.00         1680   \n",
       "...           ...         ...       ...       ...        ...          ...   \n",
       "21592   263000018   5/21/2014  360000.0         3       2.50         1530   \n",
       "21593  6600060120   2/23/2015  400000.0         4       2.50         2310   \n",
       "21594  1523300141   6/23/2014  402101.0         2       0.75         1020   \n",
       "21595   291310100   1/16/2015  400000.0         3       2.50         1600   \n",
       "21596  1523300157  10/15/2014  325000.0         2       0.75         1020   \n",
       "\n",
       "       sqft_lot  floors waterfront  view  ...          grade sqft_above  \\\n",
       "0          5650     1.0        NaN  NONE  ...      7 Average       1180   \n",
       "1          7242     2.0         NO  NONE  ...      7 Average       2170   \n",
       "2         10000     1.0         NO  NONE  ...  6 Low Average        770   \n",
       "3          5000     1.0         NO  NONE  ...      7 Average       1050   \n",
       "4          8080     1.0         NO  NONE  ...         8 Good       1680   \n",
       "...         ...     ...        ...   ...  ...            ...        ...   \n",
       "21592      1131     3.0         NO  NONE  ...         8 Good       1530   \n",
       "21593      5813     2.0         NO  NONE  ...         8 Good       2310   \n",
       "21594      1350     2.0         NO  NONE  ...      7 Average       1020   \n",
       "21595      2388     2.0        NaN  NONE  ...         8 Good       1600   \n",
       "21596      1076     2.0         NO  NONE  ...      7 Average       1020   \n",
       "\n",
       "       sqft_basement yr_built  yr_renovated  zipcode      lat     long  \\\n",
       "0                0.0     1955           0.0    98178  47.5112 -122.257   \n",
       "1              400.0     1951        1991.0    98125  47.7210 -122.319   \n",
       "2                0.0     1933           NaN    98028  47.7379 -122.233   \n",
       "3              910.0     1965           0.0    98136  47.5208 -122.393   \n",
       "4                0.0     1987           0.0    98074  47.6168 -122.045   \n",
       "...              ...      ...           ...      ...      ...      ...   \n",
       "21592            0.0     2009           0.0    98103  47.6993 -122.346   \n",
       "21593            0.0     2014           0.0    98146  47.5107 -122.362   \n",
       "21594            0.0     2009           0.0    98144  47.5944 -122.299   \n",
       "21595            0.0     2004           0.0    98027  47.5345 -122.069   \n",
       "21596            0.0     2008           0.0    98144  47.5941 -122.299   \n",
       "\n",
       "       sqft_living15  sqft_lot15  \n",
       "0               1340        5650  \n",
       "1               1690        7639  \n",
       "2               2720        8062  \n",
       "3               1360        5000  \n",
       "4               1800        7503  \n",
       "...              ...         ...  \n",
       "21592           1530        1509  \n",
       "21593           1830        7200  \n",
       "21594           1020        2007  \n",
       "21595           1410        1287  \n",
       "21596           1020        1357  \n",
       "\n",
       "[21597 rows x 21 columns]"
      ]
     },
     "execution_count": 3,
     "metadata": {},
     "output_type": "execute_result"
    }
   ],
   "source": [
    "df"
   ]
  },
  {
   "cell_type": "code",
   "execution_count": 4,
   "metadata": {},
   "outputs": [
    {
     "data": {
      "text/plain": [
       "Index(['id', 'date', 'price', 'bedrooms', 'bathrooms', 'sqft_living',\n",
       "       'sqft_lot', 'floors', 'waterfront', 'view', 'condition', 'grade',\n",
       "       'sqft_above', 'sqft_basement', 'yr_built', 'yr_renovated', 'zipcode',\n",
       "       'lat', 'long', 'sqft_living15', 'sqft_lot15'],\n",
       "      dtype='object')"
      ]
     },
     "execution_count": 4,
     "metadata": {},
     "output_type": "execute_result"
    }
   ],
   "source": [
    "df.columns"
   ]
  },
  {
   "cell_type": "code",
   "execution_count": 5,
   "metadata": {},
   "outputs": [
    {
     "data": {
      "text/plain": [
       "7 Average        8974\n",
       "8 Good           6065\n",
       "9 Better         2615\n",
       "6 Low Average    2038\n",
       "10 Very Good     1134\n",
       "11 Excellent      399\n",
       "5 Fair            242\n",
       "12 Luxury          89\n",
       "4 Low              27\n",
       "13 Mansion         13\n",
       "3 Poor              1\n",
       "Name: grade, dtype: int64"
      ]
     },
     "execution_count": 5,
     "metadata": {},
     "output_type": "execute_result"
    }
   ],
   "source": [
    "df['grade'].value_counts()"
   ]
  },
  {
   "cell_type": "code",
   "execution_count": 6,
   "metadata": {},
   "outputs": [
    {
     "name": "stdout",
     "output_type": "stream",
     "text": [
      "<class 'pandas.core.frame.DataFrame'>\n",
      "RangeIndex: 21597 entries, 0 to 21596\n",
      "Data columns (total 21 columns):\n",
      " #   Column         Non-Null Count  Dtype  \n",
      "---  ------         --------------  -----  \n",
      " 0   id             21597 non-null  int64  \n",
      " 1   date           21597 non-null  object \n",
      " 2   price          21597 non-null  float64\n",
      " 3   bedrooms       21597 non-null  int64  \n",
      " 4   bathrooms      21597 non-null  float64\n",
      " 5   sqft_living    21597 non-null  int64  \n",
      " 6   sqft_lot       21597 non-null  int64  \n",
      " 7   floors         21597 non-null  float64\n",
      " 8   waterfront     19221 non-null  object \n",
      " 9   view           21534 non-null  object \n",
      " 10  condition      21597 non-null  object \n",
      " 11  grade          21597 non-null  object \n",
      " 12  sqft_above     21597 non-null  int64  \n",
      " 13  sqft_basement  21597 non-null  object \n",
      " 14  yr_built       21597 non-null  int64  \n",
      " 15  yr_renovated   17755 non-null  float64\n",
      " 16  zipcode        21597 non-null  int64  \n",
      " 17  lat            21597 non-null  float64\n",
      " 18  long           21597 non-null  float64\n",
      " 19  sqft_living15  21597 non-null  int64  \n",
      " 20  sqft_lot15     21597 non-null  int64  \n",
      "dtypes: float64(6), int64(9), object(6)\n",
      "memory usage: 3.5+ MB\n"
     ]
    }
   ],
   "source": [
    "df.info()"
   ]
  },
  {
   "cell_type": "code",
   "execution_count": 7,
   "metadata": {},
   "outputs": [
    {
     "data": {
      "text/plain": [
       "NONE         19422\n",
       "AVERAGE        957\n",
       "GOOD           508\n",
       "FAIR           330\n",
       "EXCELLENT      317\n",
       "Name: view, dtype: int64"
      ]
     },
     "execution_count": 7,
     "metadata": {},
     "output_type": "execute_result"
    }
   ],
   "source": [
    "df['view'].value_counts()"
   ]
  },
  {
   "cell_type": "code",
   "execution_count": 8,
   "metadata": {},
   "outputs": [],
   "source": [
    "df = df.loc[df['view'] == 'NONE']"
   ]
  },
  {
   "cell_type": "code",
   "execution_count": 9,
   "metadata": {},
   "outputs": [
    {
     "name": "stdout",
     "output_type": "stream",
     "text": [
      "<class 'pandas.core.frame.DataFrame'>\n",
      "Int64Index: 19422 entries, 0 to 21596\n",
      "Data columns (total 21 columns):\n",
      " #   Column         Non-Null Count  Dtype  \n",
      "---  ------         --------------  -----  \n",
      " 0   id             19422 non-null  int64  \n",
      " 1   date           19422 non-null  object \n",
      " 2   price          19422 non-null  float64\n",
      " 3   bedrooms       19422 non-null  int64  \n",
      " 4   bathrooms      19422 non-null  float64\n",
      " 5   sqft_living    19422 non-null  int64  \n",
      " 6   sqft_lot       19422 non-null  int64  \n",
      " 7   floors         19422 non-null  float64\n",
      " 8   waterfront     17312 non-null  object \n",
      " 9   view           19422 non-null  object \n",
      " 10  condition      19422 non-null  object \n",
      " 11  grade          19422 non-null  object \n",
      " 12  sqft_above     19422 non-null  int64  \n",
      " 13  sqft_basement  19422 non-null  object \n",
      " 14  yr_built       19422 non-null  int64  \n",
      " 15  yr_renovated   15972 non-null  float64\n",
      " 16  zipcode        19422 non-null  int64  \n",
      " 17  lat            19422 non-null  float64\n",
      " 18  long           19422 non-null  float64\n",
      " 19  sqft_living15  19422 non-null  int64  \n",
      " 20  sqft_lot15     19422 non-null  int64  \n",
      "dtypes: float64(6), int64(9), object(6)\n",
      "memory usage: 3.3+ MB\n"
     ]
    }
   ],
   "source": [
    "df.info()"
   ]
  },
  {
   "cell_type": "code",
   "execution_count": 10,
   "metadata": {
    "scrolled": false
   },
   "outputs": [],
   "source": [
    "df = df.drop(columns = ['yr_renovated', 'id', 'date', 'floors', 'view', 'lat', 'long', 'waterfront'])"
   ]
  },
  {
   "cell_type": "code",
   "execution_count": 12,
   "metadata": {},
   "outputs": [
    {
     "data": {
      "text/plain": [
       "<AxesSubplot:>"
      ]
     },
     "execution_count": 12,
     "metadata": {},
     "output_type": "execute_result"
    },
    {
     "data": {
      "image/png": "[encoded data removed]",
      "text/plain": [
       "<Figure size 432x288 with 2 Axes>"
      ]
     },
     "metadata": {
      "needs_background": "light"
     },
     "output_type": "display_data"
    }
   ],
   "source": [
    "df.corr()\n",
    "sns.heatmap(df.corr(), annot = True)"
   ]
  },
  {
   "cell_type": "code",
   "execution_count": 13,
   "metadata": {},
   "outputs": [],
   "source": [
    "df['grade_clean'] = df['grade'].str[:2].astype(int)"
   ]
  },
  {
   "cell_type": "code",
   "execution_count": 14,
   "metadata": {},
   "outputs": [],
   "source": [
    "grade_group = []\n",
    "for grade in df['grade_clean']:\n",
    "    if grade >= 10:\n",
    "        grade_group.append(2)\n",
    "    elif grade <= 6:\n",
    "        grade_group.append(0)\n",
    "    else:\n",
    "        grade_group.append(1)\n"
   ]
  },
  {
   "cell_type": "code",
   "execution_count": 15,
   "metadata": {},
   "outputs": [],
   "source": [
    "df['grade_group'] = grade_group"
   ]
  },
  {
   "cell_type": "code",
   "execution_count": 33,
   "metadata": {},
   "outputs": [],
   "source": [
    "df = df.drop(columns = 'grade')"
   ]
  },
  {
   "cell_type": "code",
   "execution_count": 16,
   "metadata": {},
   "outputs": [],
   "source": [
    "X = df.drop(columns='price')\n",
    "y = df['price']\n",
    "X_train, X_test, y_train, y_test = train_test_split(X, y, \n",
    "                                                    test_size=0.25, \n",
    "                                                    random_state=42)"
   ]
  },
  {
   "cell_type": "code",
   "execution_count": 17,
   "metadata": {},
   "outputs": [],
   "source": [
    "train_df = X_train.copy()\n",
    "train_df['price'] = y_train"
   ]
  },
  {
   "cell_type": "code",
   "execution_count": 18,
   "metadata": {},
   "outputs": [],
   "source": [
    "from sklearn.preprocessing import OneHotEncoder\n",
    "from sklearn.impute import SimpleImputer"
   ]
  },
  {
   "cell_type": "code",
   "execution_count": 19,
   "metadata": {},
   "outputs": [],
   "source": [
    "imputer = SimpleImputer(strategy = 'constant', fill_value = 'unknown')\n",
    "\n",
    "imputer.fit(X_train)\n",
    "\n",
    "X_train_nonull = imputer.transform(X_train)\n",
    "X_test_nonull = imputer.transform(X_test)"
   ]
  },
  {
   "cell_type": "code",
   "execution_count": 20,
   "metadata": {},
   "outputs": [
    {
     "name": "stdout",
     "output_type": "stream",
     "text": [
      "12\n",
      "[1 2 3 4 5 6 7 8 9 10 11 33]\n",
      "25\n",
      "[0.5 0.75 1.0 1.25 1.5 1.75 2.0 2.25 2.5 2.75 3.0 3.25 3.5 3.75 4.0 4.25\n",
      " 4.5 4.75 5.0 5.25 5.5 6.0 6.25 6.5 7.5]\n",
      "824\n",
      "[370 380 390 410 420 430 460 470 480 490 500 520 530 540 550 560 570 580\n",
      " 590 600 610 620 630 640 650 660 670 680 690 700 710 720 730 740 750 760\n",
      " 770 780 790 800 810 820 828 830 833 840 850 860 870 880 890 894 900 901\n",
      " 902 910 920 930 940 950 960 962 970 980 982 988 990 998 1000 1010 1020\n",
      " 1030 1040 1048 1050 1060 1061 1068 1070 1072 1076 1080 1084 1088 1090\n",
      " 1092 1095 1100 1108 1110 1120 1122 1130 1131 1140 1150 1160 1170 1175\n",
      " 1180 1190 1200 1210 1212 1220 1230 1232 1233 1239 1240 1250 1252 1255\n",
      " 1256 1260 1270 1275 1278 1280 1290 1295 1296 1300 1310 1313 1315 1320\n",
      " 1322 1330 1340 1347 1350 1352 1358 1360 1370 1380 1381 1390 1392 1396\n",
      " 1400 1410 1413 1414 1420 1422 1425 1427 1430 1435 1440 1444 1445 1450\n",
      " 1451 1453 1458 1460 1463 1465 1470 1480 1481 1484 1489 1490 1494 1496\n",
      " 1500 1502 1509 1510 1516 1520 1522 1528 1530 1540 1550 1552 1553 1556\n",
      " 1560 1570 1571 1578 1580 1584 1590 1594 1600 1606 1608 1610 1615 1620\n",
      " 1628 1630 1639 1640 1646 1650 1651 1654 1656 1657 1658 1660 1670 1676\n",
      " 1677 1678 1679 1680 1689 1690 1700 1710 1714 1720 1726 1730 1740 1741\n",
      " 1747 1750 1760 1763 1764 1765 1767 1769 1770 1776 1780 1785 1788 1790\n",
      " 1794 1800 1802 1805 1810 1811 1812 1814 1820 1824 1830 1833 1834 1840\n",
      " 1847 1850 1852 1860 1861 1864 1867 1870 1876 1880 1889 1890 1899 1900\n",
      " 1904 1910 1912 1914 1920 1921 1930 1934 1936 1940 1950 1954 1960 1961\n",
      " 1964 1970 1975 1980 1981 1983 1984 1987 1990 1995 1996 2000 2007 2008\n",
      " 2009 2010 2020 2026 2029 2030 2031 2038 2040 2050 2052 2056 2060 2064\n",
      " 2068 2070 2074 2075 2080 2085 2090 2092 2093 2095 2100 2105 2110 2115\n",
      " 2120 2130 2134 2140 2145 2150 2153 2154 2155 2160 2163 2168 2170 2180\n",
      " 2181 2185 2190 2192 2195 2196 2200 2201 2208 2210 2217 2220 2223 2230\n",
      " 2233 2235 2238 2240 2242 2244 2245 2250 2253 2257 2260 2267 2270 2280\n",
      " 2283 2290 2298 2300 2301 2303 2310 2311 2313 2320 2329 2330 2331 2340\n",
      " 2341 2344 2350 2360 2370 2375 2380 2390 2393 2400 2403 2406 2410 2413\n",
      " 2420 2423 2424 2430 2434 2440 2441 2448 2450 2452 2460 2470 2475 2478\n",
      " 2480 2481 2483 2490 2495 2496 2497 2500 2502 2506 2507 2510 2514 2517\n",
      " 2518 2519 2520 2529 2530 2531 2538 2540 2542 2544 2547 2550 2555 2560\n",
      " 2568 2570 2575 2577 2578 2580 2590 2594 2598 2600 2605 2610 2612 2620\n",
      " 2623 2628 2630 2632 2640 2641 2643 2650 2653 2655 2656 2658 2660 2665\n",
      " 2669 2670 2672 2678 2680 2683 2689 2690 2692 2700 2701 2710 2714 2720\n",
      " 2730 2732 2734 2740 2744 2750 2760 2770 2780 2783 2789 2790 2793 2795\n",
      " 2796 2798 2800 2807 2810 2811 2815 2820 2830 2835 2840 2844 2846 2849\n",
      " 2850 2860 2870 2876 2880 2885 2890 2891 2900 2906 2910 2920 2927 2930\n",
      " 2940 2950 2960 2961 2970 2980 2990 2993 3000 3002 3004 3010 3020 3028\n",
      " 3030 3040 3045 3050 3056 3060 3065 3070 3078 3080 3087 3090 3100 3110\n",
      " 3120 3130 3133 3135 3136 3140 3150 3160 3170 3172 3180 3181 3190 3200\n",
      " 3202 3206 3210 3216 3220 3223 3230 3236 3240 3250 3260 3266 3270 3274\n",
      " 3280 3281 3290 3300 3305 3310 3320 3330 3340 3350 3360 3361 3362 3370\n",
      " 3380 3390 3400 3402 3410 3420 3430 3440 3444 3450 3460 3470 3480 3488\n",
      " 3490 3500 3504 3510 3520 3527 3530 3540 3545 3550 3560 3569 3570 3580\n",
      " 3590 3595 3596 3600 3610 3620 3630 3640 3650 3655 3660 3670 3672 3680\n",
      " 3690 3695 3700 3710 3720 3730 3740 3750 3753 3760 3770 3780 3790 3800\n",
      " 3810 3820 3830 3840 3850 3860 3870 3880 3890 3900 3910 3915 3920 3930\n",
      " 3931 3940 3950 3960 3970 3980 3990 4000 4010 4020 4030 4040 4050 4060\n",
      " 4070 4080 4083 4090 4100 4110 4115 4120 4130 4133 4140 4150 4160 4168\n",
      " 4170 4180 4190 4200 4210 4220 4230 4240 4250 4260 4270 4280 4285 4290\n",
      " 4300 4310 4320 4330 4340 4350 4360 4370 4380 4390 4400 4410 4420 4430\n",
      " 4440 4450 4460 4470 4480 4490 4500 4510 4520 4530 4540 4560 4570 4590\n",
      " 4600 4610 4620 4630 4640 4645 4650 4660 4670 4680 4690 4700 4720 4730\n",
      " 4740 4750 4760 4770 4780 4790 4800 4820 4830 4850 4860 4870 4890 4910\n",
      " 4930 4960 5000 5010 5020 5040 5050 5060 5070 5080 5090 5100 5110 5120\n",
      " 5130 5180 5220 5230 5250 5270 5290 5300 5310 5320 5330 5350 5360 5370\n",
      " 5400 5410 5420 5430 5440 5450 5461 5470 5480 5550 5570 5600 5610 5660\n",
      " 5720 5810 5840 5850 6040 6110 6160 6370 6380 6390 6500 6550 6630 6640\n",
      " 6670 6810 6900 6930 7080 7100 7270 7320 7710 7850 8020]\n",
      "7354\n",
      "[520 600 609 ... 982998 1024068 1164794]\n",
      "5\n",
      "['Average' 'Fair' 'Good' 'Poor' 'Very Good']\n",
      "10\n",
      "['10 Very Good' '11 Excellent' '12 Luxury' '13 Mansion' '4 Low' '5 Fair'\n",
      " '6 Low Average' '7 Average' '8 Good' '9 Better']\n",
      "766\n",
      "[370 380 390 410 420 430 460 470 480 490 500 520 530 540 550 560 570 580\n",
      " 590 600 610 620 630 640 650 660 670 680 690 700 710 720 730 740 750 760\n",
      " 765 770 780 790 798 800 806 810 820 828 830 833 840 850 860 870 880 890\n",
      " 894 900 901 902 910 920 930 940 944 950 960 962 963 970 980 988 990 992\n",
      " 995 998 1000 1002 1010 1020 1030 1040 1048 1050 1060 1061 1068 1070 1072\n",
      " 1076 1080 1084 1087 1088 1090 1092 1094 1095 1100 1105 1108 1110 1116\n",
      " 1120 1122 1130 1131 1140 1150 1160 1165 1170 1175 1180 1190 1200 1210\n",
      " 1212 1216 1220 1230 1232 1239 1240 1248 1250 1255 1256 1260 1270 1275\n",
      " 1280 1290 1295 1296 1300 1310 1313 1315 1320 1322 1330 1340 1347 1350\n",
      " 1352 1355 1358 1360 1363 1370 1380 1381 1390 1392 1396 1400 1410 1413\n",
      " 1414 1420 1422 1425 1427 1430 1435 1440 1444 1446 1450 1451 1453 1460\n",
      " 1463 1470 1479 1480 1481 1484 1489 1490 1494 1500 1502 1509 1510 1520\n",
      " 1528 1530 1540 1550 1552 1553 1556 1560 1564 1570 1571 1578 1580 1584\n",
      " 1590 1595 1600 1604 1606 1608 1610 1615 1620 1628 1630 1640 1646 1650\n",
      " 1651 1654 1656 1657 1658 1660 1670 1676 1677 1678 1679 1680 1689 1690\n",
      " 1700 1710 1714 1720 1726 1730 1740 1747 1750 1760 1763 1764 1765 1767\n",
      " 1769 1770 1780 1785 1788 1790 1794 1798 1800 1802 1805 1810 1811 1812\n",
      " 1820 1824 1830 1833 1834 1840 1847 1850 1852 1860 1864 1867 1870 1876\n",
      " 1880 1889 1890 1899 1900 1904 1910 1912 1914 1920 1921 1930 1934 1936\n",
      " 1940 1950 1954 1960 1961 1964 1970 1975 1976 1980 1981 1983 1984 1987\n",
      " 1990 1995 1996 2000 2007 2009 2010 2020 2024 2026 2029 2030 2031 2038\n",
      " 2040 2050 2052 2060 2064 2068 2070 2074 2075 2080 2090 2092 2093 2095\n",
      " 2100 2105 2110 2115 2120 2130 2134 2140 2145 2150 2153 2154 2155 2160\n",
      " 2163 2168 2170 2174 2180 2181 2185 2190 2192 2196 2200 2201 2208 2210\n",
      " 2217 2220 2223 2230 2233 2238 2240 2242 2244 2245 2250 2253 2260 2267\n",
      " 2270 2280 2283 2290 2298 2300 2301 2303 2310 2311 2313 2320 2329 2330\n",
      " 2331 2340 2341 2350 2360 2370 2375 2380 2390 2393 2400 2403 2406 2410\n",
      " 2413 2420 2423 2424 2430 2434 2440 2441 2448 2450 2452 2460 2470 2475\n",
      " 2478 2480 2481 2483 2490 2495 2496 2497 2500 2502 2506 2507 2510 2517\n",
      " 2518 2519 2520 2529 2530 2531 2533 2538 2540 2542 2544 2547 2550 2555\n",
      " 2560 2568 2570 2575 2577 2578 2580 2590 2594 2598 2600 2610 2612 2620\n",
      " 2623 2628 2630 2632 2640 2641 2643 2650 2653 2655 2656 2658 2660 2665\n",
      " 2669 2670 2678 2680 2683 2689 2690 2692 2700 2701 2710 2714 2720 2730\n",
      " 2732 2734 2740 2744 2750 2760 2770 2780 2783 2789 2790 2793 2795 2796\n",
      " 2798 2800 2807 2810 2811 2815 2820 2830 2835 2840 2844 2846 2849 2850\n",
      " 2860 2870 2880 2885 2890 2891 2900 2906 2910 2920 2927 2930 2940 2950\n",
      " 2960 2961 2970 2980 2990 3000 3002 3004 3006 3010 3020 3028 3030 3040\n",
      " 3045 3050 3056 3060 3065 3070 3078 3080 3087 3090 3100 3110 3120 3130\n",
      " 3135 3136 3140 3150 3160 3170 3172 3180 3181 3190 3200 3202 3206 3210\n",
      " 3216 3220 3222 3223 3230 3236 3240 3250 3260 3265 3266 3270 3274 3280\n",
      " 3281 3290 3300 3310 3320 3330 3336 3340 3350 3360 3361 3362 3370 3380\n",
      " 3390 3400 3410 3420 3430 3440 3450 3460 3470 3480 3488 3490 3500 3504\n",
      " 3510 3520 3527 3530 3540 3550 3560 3569 3570 3580 3590 3595 3600 3610\n",
      " 3620 3630 3640 3650 3660 3670 3680 3690 3695 3700 3710 3720 3730 3740\n",
      " 3750 3760 3770 3780 3790 3800 3810 3820 3830 3840 3850 3855 3860 3870\n",
      " 3880 3890 3900 3910 3915 3920 3930 3940 3950 3960 3970 3980 3990 4000\n",
      " 4010 4020 4030 4040 4050 4060 4070 4080 4083 4090 4100 4110 4115 4130\n",
      " 4133 4140 4150 4160 4170 4180 4190 4200 4210 4220 4230 4250 4260 4270\n",
      " 4280 4285 4290 4300 4310 4320 4330 4340 4350 4360 4370 4380 4400 4410\n",
      " 4420 4430 4440 4460 4470 4480 4490 4500 4540 4560 4570 4590 4610 4620\n",
      " 4640 4670 4700 4740 4750 4780 4790 4800 4820 4850 4860 4890 4930 4960\n",
      " 5000 5020 5040 5050 5060 5070 5080 5090 5110 5130 5140 5180 5220 5230\n",
      " 5240 5250 5300 5310 5320 5370 5400 5430 5440 5450 5550 5760 6090 6110\n",
      " 6370 6380 6420 6640 7320 7850 8020]\n",
      "235\n",
      "['0.0' '10.0' '100.0' '1000.0' '1008.0' '1010.0' '1020.0' '1030.0'\n",
      " '1040.0' '1050.0' '1060.0' '1070.0' '1080.0' '1090.0' '110.0' '1100.0'\n",
      " '1110.0' '1120.0' '1130.0' '1135.0' '1140.0' '1150.0' '1160.0' '1170.0'\n",
      " '1180.0' '1190.0' '120.0' '1200.0' '1210.0' '1220.0' '1230.0' '1240.0'\n",
      " '1245.0' '1250.0' '1260.0' '1270.0' '1280.0' '1281.0' '1290.0' '130.0'\n",
      " '1300.0' '1310.0' '1320.0' '1330.0' '1340.0' '1350.0' '1360.0' '1370.0'\n",
      " '1380.0' '1390.0' '140.0' '1400.0' '1410.0' '1420.0' '1430.0' '1440.0'\n",
      " '145.0' '1450.0' '1460.0' '1470.0' '1480.0' '1481.0' '1490.0' '150.0'\n",
      " '1500.0' '1510.0' '1520.0' '1530.0' '1540.0' '1550.0' '1560.0' '1580.0'\n",
      " '1590.0' '160.0' '1600.0' '1620.0' '1630.0' '1640.0' '1650.0' '1660.0'\n",
      " '1670.0' '1680.0' '1690.0' '170.0' '1700.0' '1710.0' '172.0' '1730.0'\n",
      " '1740.0' '1750.0' '176.0' '1770.0' '1780.0' '1790.0' '1798.0' '180.0'\n",
      " '1800.0' '1810.0' '1830.0' '1850.0' '1860.0' '1870.0' '190.0' '1910.0'\n",
      " '1920.0' '1940.0' '1960.0' '200.0' '2000.0' '2020.0' '2030.0' '2070.0'\n",
      " '2080.0' '2090.0' '210.0' '2110.0' '2120.0' '2150.0' '2160.0' '2170.0'\n",
      " '2196.0' '220.0' '225.0' '230.0' '235.0' '2350.0' '240.0' '243.0' '248.0'\n",
      " '250.0' '2570.0' '260.0' '265.0' '266.0' '270.0' '2720.0' '274.0' '276.0'\n",
      " '280.0' '283.0' '290.0' '295.0' '300.0' '310.0' '320.0' '330.0' '340.0'\n",
      " '350.0' '360.0' '370.0' '380.0' '390.0' '40.0' '400.0' '410.0' '414.0'\n",
      " '415.0' '417.0' '420.0' '430.0' '435.0' '440.0' '450.0' '460.0' '470.0'\n",
      " '475.0' '480.0' '490.0' '50.0' '500.0' '506.0' '508.0' '510.0' '516.0'\n",
      " '518.0' '520.0' '530.0' '540.0' '550.0' '556.0' '560.0' '570.0' '580.0'\n",
      " '590.0' '60.0' '600.0' '610.0' '620.0' '630.0' '640.0' '650.0' '652.0'\n",
      " '660.0' '666.0' '670.0' '680.0' '690.0' '70.0' '700.0' '710.0' '720.0'\n",
      " '730.0' '740.0' '750.0' '760.0' '770.0' '780.0' '784.0' '790.0' '792.0'\n",
      " '80.0' '800.0' '810.0' '820.0' '830.0' '840.0' '850.0' '860.0' '870.0'\n",
      " '880.0' '890.0' '90.0' '900.0' '910.0' '920.0' '930.0' '935.0' '940.0'\n",
      " '946.0' '950.0' '960.0' '970.0' '980.0' '990.0' '?']\n",
      "116\n",
      "[1900 1901 1902 1903 1904 1905 1906 1907 1908 1909 1910 1911 1912 1913\n",
      " 1914 1915 1916 1917 1918 1919 1920 1921 1922 1923 1924 1925 1926 1927\n",
      " 1928 1929 1930 1931 1932 1933 1934 1935 1936 1937 1938 1939 1940 1941\n",
      " 1942 1943 1944 1945 1946 1947 1948 1949 1950 1951 1952 1953 1954 1955\n",
      " 1956 1957 1958 1959 1960 1961 1962 1963 1964 1965 1966 1967 1968 1969\n",
      " 1970 1971 1972 1973 1974 1975 1976 1977 1978 1979 1980 1981 1982 1983\n",
      " 1984 1985 1986 1987 1988 1989 1990 1991 1992 1993 1994 1995 1996 1997\n",
      " 1998 1999 2000 2001 2002 2003 2004 2005 2006 2007 2008 2009 2010 2011\n",
      " 2012 2013 2014 2015]\n",
      "70\n",
      "[98001 98002 98003 98004 98005 98006 98007 98008 98010 98011 98014 98019\n",
      " 98022 98023 98024 98027 98028 98029 98030 98031 98032 98033 98034 98038\n",
      " 98039 98040 98042 98045 98052 98053 98055 98056 98058 98059 98065 98070\n",
      " 98072 98074 98075 98077 98092 98102 98103 98105 98106 98107 98108 98109\n",
      " 98112 98115 98116 98117 98118 98119 98122 98125 98126 98133 98136 98144\n",
      " 98146 98148 98155 98166 98168 98177 98178 98188 98198 98199]\n",
      "649\n",
      "[460 620 690 700 710 720 740 750 760 770 780 790 800 806 810 820 828 830\n",
      " 840 850 860 870 880 890 900 910 920 930 940 950 960 970 980 990 998 1000\n",
      " 1010 1020 1030 1040 1050 1056 1060 1070 1076 1078 1080 1084 1088 1090\n",
      " 1100 1110 1120 1125 1128 1130 1131 1138 1140 1150 1160 1168 1170 1175\n",
      " 1180 1190 1200 1210 1216 1217 1220 1228 1230 1232 1240 1250 1256 1260\n",
      " 1264 1268 1270 1277 1280 1282 1285 1290 1295 1300 1302 1303 1307 1309\n",
      " 1310 1320 1326 1330 1340 1346 1350 1356 1357 1358 1360 1365 1369 1370\n",
      " 1377 1380 1381 1390 1399 1400 1404 1410 1414 1415 1420 1425 1430 1439\n",
      " 1440 1442 1443 1445 1448 1450 1458 1459 1460 1463 1466 1468 1470 1480\n",
      " 1481 1484 1490 1492 1494 1500 1502 1509 1510 1516 1520 1522 1525 1528\n",
      " 1530 1536 1537 1540 1544 1546 1550 1554 1560 1564 1566 1569 1570 1571\n",
      " 1576 1580 1584 1590 1600 1610 1616 1620 1630 1639 1640 1650 1654 1658\n",
      " 1660 1664 1665 1670 1677 1678 1680 1690 1691 1696 1700 1710 1714 1716\n",
      " 1720 1728 1730 1740 1745 1746 1750 1757 1760 1763 1765 1767 1768 1770\n",
      " 1780 1786 1790 1798 1800 1802 1810 1811 1813 1815 1820 1830 1840 1845\n",
      " 1847 1850 1855 1860 1862 1870 1876 1880 1884 1890 1894 1900 1910 1914\n",
      " 1919 1920 1921 1930 1934 1940 1943 1949 1950 1955 1960 1961 1970 1975\n",
      " 1979 1980 1981 1984 1990 2000 2004 2005 2009 2010 2011 2015 2020 2028\n",
      " 2029 2030 2037 2040 2049 2050 2052 2054 2056 2060 2070 2075 2076 2077\n",
      " 2080 2083 2090 2092 2095 2100 2106 2110 2114 2120 2125 2130 2136 2140\n",
      " 2144 2150 2154 2155 2156 2160 2165 2166 2170 2180 2189 2190 2200 2210\n",
      " 2214 2220 2221 2230 2236 2240 2242 2246 2250 2253 2255 2256 2260 2270\n",
      " 2273 2279 2280 2290 2297 2300 2303 2304 2305 2310 2315 2316 2320 2323\n",
      " 2330 2333 2340 2344 2350 2358 2360 2363 2370 2376 2380 2381 2390 2396\n",
      " 2400 2405 2406 2409 2410 2419 2420 2425 2430 2434 2439 2440 2441 2450\n",
      " 2451 2456 2458 2460 2470 2474 2475 2480 2488 2490 2495 2496 2500 2502\n",
      " 2510 2516 2518 2520 2527 2530 2533 2540 2547 2550 2555 2560 2566 2570\n",
      " 2574 2575 2578 2580 2583 2586 2590 2594 2597 2598 2600 2604 2610 2615\n",
      " 2616 2619 2620 2622 2630 2634 2640 2641 2647 2648 2650 2653 2660 2665\n",
      " 2667 2669 2670 2680 2683 2690 2697 2700 2704 2710 2720 2724 2728 2730\n",
      " 2740 2750 2755 2760 2765 2770 2780 2790 2793 2798 2800 2810 2815 2820\n",
      " 2830 2840 2844 2848 2849 2850 2860 2870 2873 2875 2876 2879 2880 2890\n",
      " 2900 2901 2910 2920 2927 2930 2940 2950 2960 2961 2967 2970 2980 2981\n",
      " 2990 3000 3008 3010 3020 3030 3040 3045 3050 3060 3070 3078 3080 3087\n",
      " 3090 3100 3110 3112 3120 3130 3140 3150 3159 3160 3170 3180 3190 3191\n",
      " 3200 3210 3220 3230 3236 3240 3250 3260 3270 3280 3290 3300 3310 3320\n",
      " 3330 3340 3350 3360 3370 3380 3390 3400 3402 3410 3420 3430 3440 3450\n",
      " 3460 3470 3480 3490 3494 3500 3510 3515 3520 3530 3540 3550 3557 3560\n",
      " 3570 3580 3590 3600 3610 3620 3625 3630 3639 3640 3650 3660 3670 3674\n",
      " 3680 3690 3700 3710 3720 3730 3740 3750 3760 3770 3780 3790 3800 3810\n",
      " 3820 3830 3840 3850 3860 3870 3880 3890 3900 3910 3920 3930 3940 3950\n",
      " 3960 3970 3980 3990 4000 4010 4020 4030 4040 4050 4070 4080 4090 4100\n",
      " 4110 4130 4140 4160 4170 4180 4190 4200 4210 4220 4225 4230 4240 4250\n",
      " 4270 4280 4290 4300 4310 4320 4330 4340 4362 4370 4390 4410 4420 4470\n",
      " 4510 4530 4560 4590 4620 4640 4650 4660 4670 4690 4730 4750 4760 4770\n",
      " 4800 4830 4850 4900 4920 4930 5110 5170 5330 5790 6210]\n",
      "6623\n",
      "[651 659 660 ... 392040 411962 434728]\n",
      "10\n",
      "[4 5 6 7 8 9 10 11 12 13]\n",
      "3\n",
      "[0 1 2]\n"
     ]
    }
   ],
   "source": [
    "for col in range(X_train_nonull.shape[1]):\n",
    "    col_uniques = np.unique(X_train_nonull[:,col])\n",
    "    print(len(col_uniques))\n",
    "    print(col_uniques)"
   ]
  },
  {
   "cell_type": "code",
   "execution_count": 43,
   "metadata": {},
   "outputs": [
    {
     "name": "stdout",
     "output_type": "stream",
     "text": [
      "<class 'pandas.core.frame.DataFrame'>\n",
      "Int64Index: 19422 entries, 0 to 21596\n",
      "Data columns (total 14 columns):\n",
      " #   Column         Non-Null Count  Dtype  \n",
      "---  ------         --------------  -----  \n",
      " 0   price          19422 non-null  float64\n",
      " 1   bedrooms       19422 non-null  int64  \n",
      " 2   bathrooms      19422 non-null  float64\n",
      " 3   sqft_living    19422 non-null  int64  \n",
      " 4   sqft_lot       19422 non-null  int64  \n",
      " 5   condition      19422 non-null  object \n",
      " 6   sqft_above     19422 non-null  int64  \n",
      " 7   sqft_basement  19422 non-null  object \n",
      " 8   yr_built       19422 non-null  int64  \n",
      " 9   zipcode        19422 non-null  int64  \n",
      " 10  sqft_living15  19422 non-null  int64  \n",
      " 11  sqft_lot15     19422 non-null  int64  \n",
      " 12  grade_clean    19422 non-null  int32  \n",
      " 13  grade_group    19422 non-null  int64  \n",
      "dtypes: float64(2), int32(1), int64(9), object(2)\n",
      "memory usage: 2.1+ MB\n"
     ]
    }
   ],
   "source": [
    "df.info()"
   ]
  },
  {
   "cell_type": "code",
   "execution_count": 46,
   "metadata": {},
   "outputs": [],
   "source": [
    "cat_cols = [5, 7]\n",
    "\n",
    "encoder = OneHotEncoder(handle_unknown='ignore',\n",
    "                        categories='auto')\n",
    "\n",
    "ct = ColumnTransformer(transformers=[('ohe', encoder, cat_cols)],\n",
    "                       remainder='passthrough', sparse_threshold=0)\n",
    "\n",
    "ct.fit(X_train_nonull)\n",
    "\n",
    "X_train_enc = ct.transform(X_train_nonull)\n",
    "X_test_enc = ct.transform(X_test_nonull)"
   ]
  },
  {
   "cell_type": "code",
   "execution_count": 53,
   "metadata": {
    "scrolled": true
   },
   "outputs": [
    {
     "ename": "KeyError",
     "evalue": "\"['condition' 'sqft_basement'] not found in axis\"",
     "output_type": "error",
     "traceback": [
      "\u001b[1;31m---------------------------------------------------------------------------\u001b[0m",
      "\u001b[1;31mKeyError\u001b[0m                                  Traceback (most recent call last)",
      "\u001b[1;32m<ipython-input-53-85dd32874707>\u001b[0m in \u001b[0;36m<module>\u001b[1;34m\u001b[0m\n\u001b[1;32m----> 1\u001b[1;33m \u001b[0mX_train_enc\u001b[0m \u001b[1;33m=\u001b[0m \u001b[0mdf\u001b[0m\u001b[1;33m.\u001b[0m\u001b[0mdrop\u001b[0m\u001b[1;33m(\u001b[0m\u001b[0mcolumns\u001b[0m \u001b[1;33m=\u001b[0m \u001b[1;33m[\u001b[0m\u001b[1;34m'condition'\u001b[0m\u001b[1;33m,\u001b[0m \u001b[1;34m'sqft_basement'\u001b[0m\u001b[1;33m]\u001b[0m\u001b[1;33m)\u001b[0m\u001b[1;33m\u001b[0m\u001b[1;33m\u001b[0m\u001b[0m\n\u001b[0m",
      "\u001b[1;32m~\\anaconda3\\envs\\learn-env\\lib\\site-packages\\pandas\\core\\frame.py\u001b[0m in \u001b[0;36mdrop\u001b[1;34m(self, labels, axis, index, columns, level, inplace, errors)\u001b[0m\n\u001b[0;32m   4161\u001b[0m                 \u001b[0mweight\u001b[0m  \u001b[1;36m1.0\u001b[0m     \u001b[1;36m0.8\u001b[0m\u001b[1;33m\u001b[0m\u001b[1;33m\u001b[0m\u001b[0m\n\u001b[0;32m   4162\u001b[0m         \"\"\"\n\u001b[1;32m-> 4163\u001b[1;33m         return super().drop(\n\u001b[0m\u001b[0;32m   4164\u001b[0m             \u001b[0mlabels\u001b[0m\u001b[1;33m=\u001b[0m\u001b[0mlabels\u001b[0m\u001b[1;33m,\u001b[0m\u001b[1;33m\u001b[0m\u001b[1;33m\u001b[0m\u001b[0m\n\u001b[0;32m   4165\u001b[0m             \u001b[0maxis\u001b[0m\u001b[1;33m=\u001b[0m\u001b[0maxis\u001b[0m\u001b[1;33m,\u001b[0m\u001b[1;33m\u001b[0m\u001b[1;33m\u001b[0m\u001b[0m\n",
      "\u001b[1;32m~\\anaconda3\\envs\\learn-env\\lib\\site-packages\\pandas\\core\\generic.py\u001b[0m in \u001b[0;36mdrop\u001b[1;34m(self, labels, axis, index, columns, level, inplace, errors)\u001b[0m\n\u001b[0;32m   3885\u001b[0m         \u001b[1;32mfor\u001b[0m \u001b[0maxis\u001b[0m\u001b[1;33m,\u001b[0m \u001b[0mlabels\u001b[0m \u001b[1;32min\u001b[0m \u001b[0maxes\u001b[0m\u001b[1;33m.\u001b[0m\u001b[0mitems\u001b[0m\u001b[1;33m(\u001b[0m\u001b[1;33m)\u001b[0m\u001b[1;33m:\u001b[0m\u001b[1;33m\u001b[0m\u001b[1;33m\u001b[0m\u001b[0m\n\u001b[0;32m   3886\u001b[0m             \u001b[1;32mif\u001b[0m \u001b[0mlabels\u001b[0m \u001b[1;32mis\u001b[0m \u001b[1;32mnot\u001b[0m \u001b[1;32mNone\u001b[0m\u001b[1;33m:\u001b[0m\u001b[1;33m\u001b[0m\u001b[1;33m\u001b[0m\u001b[0m\n\u001b[1;32m-> 3887\u001b[1;33m                 \u001b[0mobj\u001b[0m \u001b[1;33m=\u001b[0m \u001b[0mobj\u001b[0m\u001b[1;33m.\u001b[0m\u001b[0m_drop_axis\u001b[0m\u001b[1;33m(\u001b[0m\u001b[0mlabels\u001b[0m\u001b[1;33m,\u001b[0m \u001b[0maxis\u001b[0m\u001b[1;33m,\u001b[0m \u001b[0mlevel\u001b[0m\u001b[1;33m=\u001b[0m\u001b[0mlevel\u001b[0m\u001b[1;33m,\u001b[0m \u001b[0merrors\u001b[0m\u001b[1;33m=\u001b[0m\u001b[0merrors\u001b[0m\u001b[1;33m)\u001b[0m\u001b[1;33m\u001b[0m\u001b[1;33m\u001b[0m\u001b[0m\n\u001b[0m\u001b[0;32m   3888\u001b[0m \u001b[1;33m\u001b[0m\u001b[0m\n\u001b[0;32m   3889\u001b[0m         \u001b[1;32mif\u001b[0m \u001b[0minplace\u001b[0m\u001b[1;33m:\u001b[0m\u001b[1;33m\u001b[0m\u001b[1;33m\u001b[0m\u001b[0m\n",
      "\u001b[1;32m~\\anaconda3\\envs\\learn-env\\lib\\site-packages\\pandas\\core\\generic.py\u001b[0m in \u001b[0;36m_drop_axis\u001b[1;34m(self, labels, axis, level, errors)\u001b[0m\n\u001b[0;32m   3919\u001b[0m                 \u001b[0mnew_axis\u001b[0m \u001b[1;33m=\u001b[0m \u001b[0maxis\u001b[0m\u001b[1;33m.\u001b[0m\u001b[0mdrop\u001b[0m\u001b[1;33m(\u001b[0m\u001b[0mlabels\u001b[0m\u001b[1;33m,\u001b[0m \u001b[0mlevel\u001b[0m\u001b[1;33m=\u001b[0m\u001b[0mlevel\u001b[0m\u001b[1;33m,\u001b[0m \u001b[0merrors\u001b[0m\u001b[1;33m=\u001b[0m\u001b[0merrors\u001b[0m\u001b[1;33m)\u001b[0m\u001b[1;33m\u001b[0m\u001b[1;33m\u001b[0m\u001b[0m\n\u001b[0;32m   3920\u001b[0m             \u001b[1;32melse\u001b[0m\u001b[1;33m:\u001b[0m\u001b[1;33m\u001b[0m\u001b[1;33m\u001b[0m\u001b[0m\n\u001b[1;32m-> 3921\u001b[1;33m                 \u001b[0mnew_axis\u001b[0m \u001b[1;33m=\u001b[0m \u001b[0maxis\u001b[0m\u001b[1;33m.\u001b[0m\u001b[0mdrop\u001b[0m\u001b[1;33m(\u001b[0m\u001b[0mlabels\u001b[0m\u001b[1;33m,\u001b[0m \u001b[0merrors\u001b[0m\u001b[1;33m=\u001b[0m\u001b[0merrors\u001b[0m\u001b[1;33m)\u001b[0m\u001b[1;33m\u001b[0m\u001b[1;33m\u001b[0m\u001b[0m\n\u001b[0m\u001b[0;32m   3922\u001b[0m             \u001b[0mresult\u001b[0m \u001b[1;33m=\u001b[0m \u001b[0mself\u001b[0m\u001b[1;33m.\u001b[0m\u001b[0mreindex\u001b[0m\u001b[1;33m(\u001b[0m\u001b[1;33m**\u001b[0m\u001b[1;33m{\u001b[0m\u001b[0maxis_name\u001b[0m\u001b[1;33m:\u001b[0m \u001b[0mnew_axis\u001b[0m\u001b[1;33m}\u001b[0m\u001b[1;33m)\u001b[0m\u001b[1;33m\u001b[0m\u001b[1;33m\u001b[0m\u001b[0m\n\u001b[0;32m   3923\u001b[0m \u001b[1;33m\u001b[0m\u001b[0m\n",
      "\u001b[1;32m~\\anaconda3\\envs\\learn-env\\lib\\site-packages\\pandas\\core\\indexes\\base.py\u001b[0m in \u001b[0;36mdrop\u001b[1;34m(self, labels, errors)\u001b[0m\n\u001b[0;32m   5280\u001b[0m         \u001b[1;32mif\u001b[0m \u001b[0mmask\u001b[0m\u001b[1;33m.\u001b[0m\u001b[0many\u001b[0m\u001b[1;33m(\u001b[0m\u001b[1;33m)\u001b[0m\u001b[1;33m:\u001b[0m\u001b[1;33m\u001b[0m\u001b[1;33m\u001b[0m\u001b[0m\n\u001b[0;32m   5281\u001b[0m             \u001b[1;32mif\u001b[0m \u001b[0merrors\u001b[0m \u001b[1;33m!=\u001b[0m \u001b[1;34m\"ignore\"\u001b[0m\u001b[1;33m:\u001b[0m\u001b[1;33m\u001b[0m\u001b[1;33m\u001b[0m\u001b[0m\n\u001b[1;32m-> 5282\u001b[1;33m                 \u001b[1;32mraise\u001b[0m \u001b[0mKeyError\u001b[0m\u001b[1;33m(\u001b[0m\u001b[1;34mf\"{labels[mask]} not found in axis\"\u001b[0m\u001b[1;33m)\u001b[0m\u001b[1;33m\u001b[0m\u001b[1;33m\u001b[0m\u001b[0m\n\u001b[0m\u001b[0;32m   5283\u001b[0m             \u001b[0mindexer\u001b[0m \u001b[1;33m=\u001b[0m \u001b[0mindexer\u001b[0m\u001b[1;33m[\u001b[0m\u001b[1;33m~\u001b[0m\u001b[0mmask\u001b[0m\u001b[1;33m]\u001b[0m\u001b[1;33m\u001b[0m\u001b[1;33m\u001b[0m\u001b[0m\n\u001b[0;32m   5284\u001b[0m         \u001b[1;32mreturn\u001b[0m \u001b[0mself\u001b[0m\u001b[1;33m.\u001b[0m\u001b[0mdelete\u001b[0m\u001b[1;33m(\u001b[0m\u001b[0mindexer\u001b[0m\u001b[1;33m)\u001b[0m\u001b[1;33m\u001b[0m\u001b[1;33m\u001b[0m\u001b[0m\n",
      "\u001b[1;31mKeyError\u001b[0m: \"['condition' 'sqft_basement'] not found in axis\""
     ]
    }
   ],
   "source": [
    "X_train_enc = .drop(columns = ['condition', 'sqft_basement'])"
   ]
  },
  {
   "cell_type": "code",
   "execution_count": 47,
   "metadata": {},
   "outputs": [
    {
     "data": {
      "text/plain": [
       "array([[0.0, 0.0, 0.0, ..., 8265, 7, 1],\n",
       "       [0.0, 0.0, 0.0, ..., 12523, 8, 1],\n",
       "       [0.0, 0.0, 0.0, ..., 4598, 7, 1],\n",
       "       ...,\n",
       "       [0.0, 0.0, 0.0, ..., 3600, 8, 1],\n",
       "       [0.0, 0.0, 0.0, ..., 5407, 6, 0],\n",
       "       [0.0, 0.0, 0.0, ..., 4800, 7, 1]], dtype=object)"
      ]
     },
     "execution_count": 47,
     "metadata": {},
     "output_type": "execute_result"
    }
   ],
   "source": [
    "X_train_enc"
   ]
  },
  {
   "cell_type": "code",
   "execution_count": 48,
   "metadata": {},
   "outputs": [
    {
     "name": "stdout",
     "output_type": "stream",
     "text": [
      "<class 'pandas.core.frame.DataFrame'>\n",
      "RangeIndex: 14566 entries, 0 to 14565\n",
      "Columns: 257 entries, ohe__x0_10 Very Good to x13\n",
      "dtypes: object(257)\n",
      "memory usage: 28.6+ MB\n"
     ]
    }
   ],
   "source": [
    "pd.DataFrame(X_train_enc, columns=ct.get_feature_names()).info()"
   ]
  },
  {
   "cell_type": "code",
   "execution_count": 52,
   "metadata": {},
   "outputs": [
    {
     "ename": "ValueError",
     "evalue": "could not convert string to float: 'Average'",
     "output_type": "error",
     "traceback": [
      "\u001b[1;31m---------------------------------------------------------------------------\u001b[0m",
      "\u001b[1;31mValueError\u001b[0m                                Traceback (most recent call last)",
      "\u001b[1;32m<ipython-input-52-f6e1cd70bf98>\u001b[0m in \u001b[0;36m<module>\u001b[1;34m\u001b[0m\n\u001b[0;32m      1\u001b[0m \u001b[0mscaler\u001b[0m \u001b[1;33m=\u001b[0m \u001b[0mMinMaxScaler\u001b[0m\u001b[1;33m(\u001b[0m\u001b[1;33m)\u001b[0m\u001b[1;33m\u001b[0m\u001b[1;33m\u001b[0m\u001b[0m\n\u001b[1;32m----> 2\u001b[1;33m \u001b[0mscaler\u001b[0m\u001b[1;33m.\u001b[0m\u001b[0mfit\u001b[0m\u001b[1;33m(\u001b[0m\u001b[0mX_train_enc\u001b[0m\u001b[1;33m)\u001b[0m\u001b[1;33m\u001b[0m\u001b[1;33m\u001b[0m\u001b[0m\n\u001b[0m\u001b[0;32m      3\u001b[0m \u001b[1;33m\u001b[0m\u001b[0m\n\u001b[0;32m      4\u001b[0m \u001b[0mX_train_sc\u001b[0m \u001b[1;33m=\u001b[0m \u001b[0mscaler\u001b[0m\u001b[1;33m.\u001b[0m\u001b[0mtransform\u001b[0m\u001b[1;33m(\u001b[0m\u001b[0mX_train_enc\u001b[0m\u001b[1;33m)\u001b[0m\u001b[1;33m\u001b[0m\u001b[1;33m\u001b[0m\u001b[0m\n\u001b[0;32m      5\u001b[0m \u001b[0mX_test_sc\u001b[0m \u001b[1;33m=\u001b[0m \u001b[0mscaler\u001b[0m\u001b[1;33m.\u001b[0m\u001b[0mtransform\u001b[0m\u001b[1;33m(\u001b[0m\u001b[0mX_test_enc\u001b[0m\u001b[1;33m)\u001b[0m\u001b[1;33m\u001b[0m\u001b[1;33m\u001b[0m\u001b[0m\n",
      "\u001b[1;32m~\\anaconda3\\envs\\learn-env\\lib\\site-packages\\sklearn\\preprocessing\\_data.py\u001b[0m in \u001b[0;36mfit\u001b[1;34m(self, X, y)\u001b[0m\n\u001b[0;32m    334\u001b[0m         \u001b[1;31m# Reset internal state before fitting\u001b[0m\u001b[1;33m\u001b[0m\u001b[1;33m\u001b[0m\u001b[1;33m\u001b[0m\u001b[0m\n\u001b[0;32m    335\u001b[0m         \u001b[0mself\u001b[0m\u001b[1;33m.\u001b[0m\u001b[0m_reset\u001b[0m\u001b[1;33m(\u001b[0m\u001b[1;33m)\u001b[0m\u001b[1;33m\u001b[0m\u001b[1;33m\u001b[0m\u001b[0m\n\u001b[1;32m--> 336\u001b[1;33m         \u001b[1;32mreturn\u001b[0m \u001b[0mself\u001b[0m\u001b[1;33m.\u001b[0m\u001b[0mpartial_fit\u001b[0m\u001b[1;33m(\u001b[0m\u001b[0mX\u001b[0m\u001b[1;33m,\u001b[0m \u001b[0my\u001b[0m\u001b[1;33m)\u001b[0m\u001b[1;33m\u001b[0m\u001b[1;33m\u001b[0m\u001b[0m\n\u001b[0m\u001b[0;32m    337\u001b[0m \u001b[1;33m\u001b[0m\u001b[0m\n\u001b[0;32m    338\u001b[0m     \u001b[1;32mdef\u001b[0m \u001b[0mpartial_fit\u001b[0m\u001b[1;33m(\u001b[0m\u001b[0mself\u001b[0m\u001b[1;33m,\u001b[0m \u001b[0mX\u001b[0m\u001b[1;33m,\u001b[0m \u001b[0my\u001b[0m\u001b[1;33m=\u001b[0m\u001b[1;32mNone\u001b[0m\u001b[1;33m)\u001b[0m\u001b[1;33m:\u001b[0m\u001b[1;33m\u001b[0m\u001b[1;33m\u001b[0m\u001b[0m\n",
      "\u001b[1;32m~\\anaconda3\\envs\\learn-env\\lib\\site-packages\\sklearn\\preprocessing\\_data.py\u001b[0m in \u001b[0;36mpartial_fit\u001b[1;34m(self, X, y)\u001b[0m\n\u001b[0;32m    367\u001b[0m \u001b[1;33m\u001b[0m\u001b[0m\n\u001b[0;32m    368\u001b[0m         \u001b[0mfirst_pass\u001b[0m \u001b[1;33m=\u001b[0m \u001b[1;32mnot\u001b[0m \u001b[0mhasattr\u001b[0m\u001b[1;33m(\u001b[0m\u001b[0mself\u001b[0m\u001b[1;33m,\u001b[0m \u001b[1;34m'n_samples_seen_'\u001b[0m\u001b[1;33m)\u001b[0m\u001b[1;33m\u001b[0m\u001b[1;33m\u001b[0m\u001b[0m\n\u001b[1;32m--> 369\u001b[1;33m         X = self._validate_data(X, reset=first_pass,\n\u001b[0m\u001b[0;32m    370\u001b[0m                                 \u001b[0mestimator\u001b[0m\u001b[1;33m=\u001b[0m\u001b[0mself\u001b[0m\u001b[1;33m,\u001b[0m \u001b[0mdtype\u001b[0m\u001b[1;33m=\u001b[0m\u001b[0mFLOAT_DTYPES\u001b[0m\u001b[1;33m,\u001b[0m\u001b[1;33m\u001b[0m\u001b[1;33m\u001b[0m\u001b[0m\n\u001b[0;32m    371\u001b[0m                                 force_all_finite=\"allow-nan\")\n",
      "\u001b[1;32m~\\anaconda3\\envs\\learn-env\\lib\\site-packages\\sklearn\\base.py\u001b[0m in \u001b[0;36m_validate_data\u001b[1;34m(self, X, y, reset, validate_separately, **check_params)\u001b[0m\n\u001b[0;32m    418\u001b[0m                     \u001b[1;34mf\"requires y to be passed, but the target y is None.\"\u001b[0m\u001b[1;33m\u001b[0m\u001b[1;33m\u001b[0m\u001b[0m\n\u001b[0;32m    419\u001b[0m                 )\n\u001b[1;32m--> 420\u001b[1;33m             \u001b[0mX\u001b[0m \u001b[1;33m=\u001b[0m \u001b[0mcheck_array\u001b[0m\u001b[1;33m(\u001b[0m\u001b[0mX\u001b[0m\u001b[1;33m,\u001b[0m \u001b[1;33m**\u001b[0m\u001b[0mcheck_params\u001b[0m\u001b[1;33m)\u001b[0m\u001b[1;33m\u001b[0m\u001b[1;33m\u001b[0m\u001b[0m\n\u001b[0m\u001b[0;32m    421\u001b[0m             \u001b[0mout\u001b[0m \u001b[1;33m=\u001b[0m \u001b[0mX\u001b[0m\u001b[1;33m\u001b[0m\u001b[1;33m\u001b[0m\u001b[0m\n\u001b[0;32m    422\u001b[0m         \u001b[1;32melse\u001b[0m\u001b[1;33m:\u001b[0m\u001b[1;33m\u001b[0m\u001b[1;33m\u001b[0m\u001b[0m\n",
      "\u001b[1;32m~\\anaconda3\\envs\\learn-env\\lib\\site-packages\\sklearn\\utils\\validation.py\u001b[0m in \u001b[0;36minner_f\u001b[1;34m(*args, **kwargs)\u001b[0m\n\u001b[0;32m     70\u001b[0m                           FutureWarning)\n\u001b[0;32m     71\u001b[0m         \u001b[0mkwargs\u001b[0m\u001b[1;33m.\u001b[0m\u001b[0mupdate\u001b[0m\u001b[1;33m(\u001b[0m\u001b[1;33m{\u001b[0m\u001b[0mk\u001b[0m\u001b[1;33m:\u001b[0m \u001b[0marg\u001b[0m \u001b[1;32mfor\u001b[0m \u001b[0mk\u001b[0m\u001b[1;33m,\u001b[0m \u001b[0marg\u001b[0m \u001b[1;32min\u001b[0m \u001b[0mzip\u001b[0m\u001b[1;33m(\u001b[0m\u001b[0msig\u001b[0m\u001b[1;33m.\u001b[0m\u001b[0mparameters\u001b[0m\u001b[1;33m,\u001b[0m \u001b[0margs\u001b[0m\u001b[1;33m)\u001b[0m\u001b[1;33m}\u001b[0m\u001b[1;33m)\u001b[0m\u001b[1;33m\u001b[0m\u001b[1;33m\u001b[0m\u001b[0m\n\u001b[1;32m---> 72\u001b[1;33m         \u001b[1;32mreturn\u001b[0m \u001b[0mf\u001b[0m\u001b[1;33m(\u001b[0m\u001b[1;33m**\u001b[0m\u001b[0mkwargs\u001b[0m\u001b[1;33m)\u001b[0m\u001b[1;33m\u001b[0m\u001b[1;33m\u001b[0m\u001b[0m\n\u001b[0m\u001b[0;32m     73\u001b[0m     \u001b[1;32mreturn\u001b[0m \u001b[0minner_f\u001b[0m\u001b[1;33m\u001b[0m\u001b[1;33m\u001b[0m\u001b[0m\n\u001b[0;32m     74\u001b[0m \u001b[1;33m\u001b[0m\u001b[0m\n",
      "\u001b[1;32m~\\anaconda3\\envs\\learn-env\\lib\\site-packages\\sklearn\\utils\\validation.py\u001b[0m in \u001b[0;36mcheck_array\u001b[1;34m(array, accept_sparse, accept_large_sparse, dtype, order, copy, force_all_finite, ensure_2d, allow_nd, ensure_min_samples, ensure_min_features, estimator)\u001b[0m\n\u001b[0;32m    596\u001b[0m                     \u001b[0marray\u001b[0m \u001b[1;33m=\u001b[0m \u001b[0marray\u001b[0m\u001b[1;33m.\u001b[0m\u001b[0mastype\u001b[0m\u001b[1;33m(\u001b[0m\u001b[0mdtype\u001b[0m\u001b[1;33m,\u001b[0m \u001b[0mcasting\u001b[0m\u001b[1;33m=\u001b[0m\u001b[1;34m\"unsafe\"\u001b[0m\u001b[1;33m,\u001b[0m \u001b[0mcopy\u001b[0m\u001b[1;33m=\u001b[0m\u001b[1;32mFalse\u001b[0m\u001b[1;33m)\u001b[0m\u001b[1;33m\u001b[0m\u001b[1;33m\u001b[0m\u001b[0m\n\u001b[0;32m    597\u001b[0m                 \u001b[1;32melse\u001b[0m\u001b[1;33m:\u001b[0m\u001b[1;33m\u001b[0m\u001b[1;33m\u001b[0m\u001b[0m\n\u001b[1;32m--> 598\u001b[1;33m                     \u001b[0marray\u001b[0m \u001b[1;33m=\u001b[0m \u001b[0mnp\u001b[0m\u001b[1;33m.\u001b[0m\u001b[0masarray\u001b[0m\u001b[1;33m(\u001b[0m\u001b[0marray\u001b[0m\u001b[1;33m,\u001b[0m \u001b[0morder\u001b[0m\u001b[1;33m=\u001b[0m\u001b[0morder\u001b[0m\u001b[1;33m,\u001b[0m \u001b[0mdtype\u001b[0m\u001b[1;33m=\u001b[0m\u001b[0mdtype\u001b[0m\u001b[1;33m)\u001b[0m\u001b[1;33m\u001b[0m\u001b[1;33m\u001b[0m\u001b[0m\n\u001b[0m\u001b[0;32m    599\u001b[0m             \u001b[1;32mexcept\u001b[0m \u001b[0mComplexWarning\u001b[0m\u001b[1;33m:\u001b[0m\u001b[1;33m\u001b[0m\u001b[1;33m\u001b[0m\u001b[0m\n\u001b[0;32m    600\u001b[0m                 raise ValueError(\"Complex data not supported\\n\"\n",
      "\u001b[1;32m~\\anaconda3\\envs\\learn-env\\lib\\site-packages\\numpy\\core\\_asarray.py\u001b[0m in \u001b[0;36masarray\u001b[1;34m(a, dtype, order)\u001b[0m\n\u001b[0;32m     83\u001b[0m \u001b[1;33m\u001b[0m\u001b[0m\n\u001b[0;32m     84\u001b[0m     \"\"\"\n\u001b[1;32m---> 85\u001b[1;33m     \u001b[1;32mreturn\u001b[0m \u001b[0marray\u001b[0m\u001b[1;33m(\u001b[0m\u001b[0ma\u001b[0m\u001b[1;33m,\u001b[0m \u001b[0mdtype\u001b[0m\u001b[1;33m,\u001b[0m \u001b[0mcopy\u001b[0m\u001b[1;33m=\u001b[0m\u001b[1;32mFalse\u001b[0m\u001b[1;33m,\u001b[0m \u001b[0morder\u001b[0m\u001b[1;33m=\u001b[0m\u001b[0morder\u001b[0m\u001b[1;33m)\u001b[0m\u001b[1;33m\u001b[0m\u001b[1;33m\u001b[0m\u001b[0m\n\u001b[0m\u001b[0;32m     86\u001b[0m \u001b[1;33m\u001b[0m\u001b[0m\n\u001b[0;32m     87\u001b[0m \u001b[1;33m\u001b[0m\u001b[0m\n",
      "\u001b[1;31mValueError\u001b[0m: could not convert string to float: 'Average'"
     ]
    }
   ],
   "source": [
    "scaler = MinMaxScaler()\n",
    "scaler.fit(X_train_enc)\n",
    "\n",
    "X_train_sc = scaler.transform(X_train_enc)\n",
    "X_test_sc = scaler.transform(X_test_enc)"
   ]
  },
  {
   "cell_type": "code",
   "execution_count": null,
   "metadata": {},
   "outputs": [],
   "source": [
    "grade_median = train_df.groupby('grade')['price'].median().sort_values(ascending = False)"
   ]
  },
  {
   "cell_type": "code",
   "execution_count": null,
   "metadata": {
    "scrolled": true
   },
   "outputs": [],
   "source": [
    "dict(grade_median)"
   ]
  },
  {
   "cell_type": "code",
   "execution_count": null,
   "metadata": {},
   "outputs": [],
   "source": [
    "train_df['grade_median'] = train_df['grade'].apply(lambda g: dict(grade_median).get(g))"
   ]
  },
  {
   "cell_type": "code",
   "execution_count": null,
   "metadata": {},
   "outputs": [],
   "source": [
    "cond_median = train_df.groupby('condition')['price'].median().sort_values(ascending = False)"
   ]
  },
  {
   "cell_type": "code",
   "execution_count": null,
   "metadata": {
    "scrolled": true
   },
   "outputs": [],
   "source": [
    "dict(cond_median)"
   ]
  },
  {
   "cell_type": "code",
   "execution_count": null,
   "metadata": {},
   "outputs": [],
   "source": [
    "train_df['condition_median'] = train_df['condition'].apply(lambda g: dict(cond_median).get(g))"
   ]
  },
  {
   "cell_type": "code",
   "execution_count": null,
   "metadata": {},
   "outputs": [],
   "source": [
    "df['grade'].value_counts().index"
   ]
  },
  {
   "cell_type": "code",
   "execution_count": null,
   "metadata": {
    "scrolled": true
   },
   "outputs": [],
   "source": [
    "train_df['condition'].value_counts()"
   ]
  },
  {
   "cell_type": "code",
   "execution_count": null,
   "metadata": {},
   "outputs": [],
   "source": [
    "train_df['valuation'] =(train_df['grade_median'] + train_df['condition_median']) / 2"
   ]
  },
  {
   "cell_type": "code",
   "execution_count": null,
   "metadata": {},
   "outputs": [],
   "source": [
    "train_df['valuation_difference'] = train_df['price'] - train_df['valuation']"
   ]
  },
  {
   "cell_type": "code",
   "execution_count": null,
   "metadata": {
    "scrolled": true
   },
   "outputs": [],
   "source": [
    "train_df.head()"
   ]
  },
  {
   "cell_type": "code",
   "execution_count": 40,
   "metadata": {},
   "outputs": [],
   "source": [
    "def evaluate_model(X_train, X_test, y_train, y_test, log = False):\n",
    "    '''\n",
    "    Expected Good Doc String\n",
    "    '''\n",
    "    # Create and fit model\n",
    "    model = sm.OLS(y_train, sm.add_constant(X_train)).fit()\n",
    "    \n",
    "    # Print summary (if OLS)\n",
    "    print(model.summary())\n",
    "    \n",
    "    # Grab predictions\n",
    "    train_preds = model.predict(sm.add_constant(X_train))\n",
    "    test_preds = model.predict(sm.add_constant(X_test))\n",
    "    \n",
    "    # Evaluate on train and test\n",
    "    print(f\"Train R2 Score: {r2_score(y_train, train_preds):.4f}\")\n",
    "    if log == True:\n",
    "        y_train_unlog = np.exmp1(y_train)\n",
    "        train_preds_unlog = np.expm1(train_preds)\n",
    "        print(f\"Train MAE Score: ${mean_absolute_error(y_train_unlog, train_preds_unlog):.4f}\")\n",
    "        print(f\"Train RMSE Score: ${mean_squared_error(y_train_unlog, train_preds_unlog, squared=False):.4f}\")\n",
    "    else:\n",
    "        print(f\"Train MAE Score: ${mean_absolute_error(y_train, train_preds):.4f}\")\n",
    "        print(f\"Train RMSE Score: ${mean_squared_error(y_train, train_preds, squared=False):.4f}\")\n",
    "    print(\"*\"*20)\n",
    "    print(f\"Test R2 Score: {r2_score(y_test, test_preds):.4f}\")\n",
    "    if log == True:\n",
    "        y_test_unlog = np.expm1(y_test)\n",
    "        test_preds_unlog = np.expm1(test_preds)\n",
    "        print(f\"Train MAE Score: ${mean_absolute_error(y_test_unlog, test_preds_unlog):.4f}\")\n",
    "        print(f\"Train RMSE Score: ${mean_squared_error(y_test_unlog, test_preds_unlog, squared=False):.4f}\")\n",
    "    else:\n",
    "        print(f\"Train MAE Score: ${mean_absolute_error(y_test, test_preds):.4f}\")\n",
    "        print(f\"Train RMSE Score: ${mean_squared_error(y_test, test_preds, squared=False):.4f}\")\n",
    "    print(\"*\"*20)\n",
    "    \n",
    "    # Visualize residuals\n",
    "    plt.scatter(train_preds, y_train-train_preds, label='Train')\n",
    "    plt.scatter(test_preds, y_test-test_preds, label='Test')\n",
    "\n",
    "    plt.axhline(y=0, color = 'red', label = '0')\n",
    "    plt.xlabel('predictions')\n",
    "    plt.ylabel('residuals')\n",
    "    plt.legend()\n",
    "    plt.show()\n",
    "    \n",
    "    return train_preds, test_preds"
   ]
  },
  {
   "cell_type": "code",
   "execution_count": 37,
   "metadata": {},
   "outputs": [],
   "source": [
    "X_train_2 = X_train[['grade_group', 'bedrooms', 'bathrooms', 'sqft_living', 'sqft_lot']]\n",
    "X_test_2 = X_test[['grade_group', 'bedrooms', 'bathrooms', 'sqft_living', 'sqft_lot']]"
   ]
  },
  {
   "cell_type": "code",
   "execution_count": null,
   "metadata": {},
   "outputs": [],
   "source": [
    "X_train_3 = X_train\n",
    "X_test_3 = X_test"
   ]
  },
  {
   "cell_type": "code",
   "execution_count": null,
   "metadata": {},
   "outputs": [],
   "source": [
    "from sklearn.preprocessing import StandardScaler"
   ]
  },
  {
   "cell_type": "code",
   "execution_count": 38,
   "metadata": {},
   "outputs": [],
   "source": [
    "scaler = StandardScaler()\n",
    "scaler.fit(X_train_2)\n",
    "\n",
    "X_train_2_sc = scaler.transform(X_train_2)\n",
    "X_test_2_sc = scaler.transform(X_test_2)"
   ]
  },
  {
   "cell_type": "code",
   "execution_count": null,
   "metadata": {},
   "outputs": [],
   "source": [
    "scaler = StandardScaler()\n",
    "scaler.fit(X_train_3)\n",
    "\n",
    "X_train_3_sc = scaler.transform(X_train_3)\n",
    "X_test_3_sc = scaler.transform(X_test_3)"
   ]
  },
  {
   "cell_type": "code",
   "execution_count": 41,
   "metadata": {},
   "outputs": [
    {
     "name": "stdout",
     "output_type": "stream",
     "text": [
      "                            OLS Regression Results                            \n",
      "==============================================================================\n",
      "Dep. Variable:                  price   R-squared:                       0.485\n",
      "Model:                            OLS   Adj. R-squared:                  0.485\n",
      "Method:                 Least Squares   F-statistic:                     2739.\n",
      "Date:                Wed, 29 Jun 2022   Prob (F-statistic):               0.00\n",
      "Time:                        10:53:35   Log-Likelihood:            -1.9863e+05\n",
      "No. Observations:               14566   AIC:                         3.973e+05\n",
      "Df Residuals:                   14560   BIC:                         3.973e+05\n",
      "Df Model:                           5                                         \n",
      "Covariance Type:            nonrobust                                         \n",
      "==============================================================================\n",
      "                 coef    std err          t      P>|t|      [0.025      0.975]\n",
      "------------------------------------------------------------------------------\n",
      "const       4.948e+05   1676.480    295.160      0.000    4.92e+05    4.98e+05\n",
      "x1          4.512e+04   2070.744     21.791      0.000    4.11e+04    4.92e+04\n",
      "x2         -3.254e+04   2108.476    -15.435      0.000   -3.67e+04   -2.84e+04\n",
      "x3         -3495.0561   2568.887     -1.361      0.174   -8530.401    1540.289\n",
      "x4          1.884e+05   2888.262     65.215      0.000    1.83e+05    1.94e+05\n",
      "x5         -7898.7242   1718.144     -4.597      0.000   -1.13e+04   -4530.943\n",
      "==============================================================================\n",
      "Omnibus:                     6730.288   Durbin-Watson:                   1.997\n",
      "Prob(Omnibus):                  0.000   Jarque-Bera (JB):            74792.653\n",
      "Skew:                           1.933   Prob(JB):                         0.00\n",
      "Kurtosis:                      13.406   Cond. No.                         3.38\n",
      "==============================================================================\n",
      "\n",
      "Notes:\n",
      "[1] Standard Errors assume that the covariance matrix of the errors is correctly specified.\n",
      "Train R2 Score: 0.4847\n",
      "Train MAE Score: $143063.6935\n",
      "Train RMSE Score: $202292.1179\n",
      "********************\n",
      "Test R2 Score: 0.4866\n",
      "Train MAE Score: $144767.1468\n",
      "Train RMSE Score: $217480.6634\n",
      "********************\n"
     ]
    },
    {
     "data": {
      "image/png": "[encoded data removed]",
      "text/plain": [
       "<Figure size 432x288 with 1 Axes>"
      ]
     },
     "metadata": {
      "needs_background": "light"
     },
     "output_type": "display_data"
    },
    {
     "data": {
      "text/plain": [
       "(array([487317.85359336, 776406.20809371, 467814.27630438, ...,\n",
       "        450174.02625451, 262903.7632825 , 416430.82967347]),\n",
       " array([395566.31087054, 469413.87224298, 314445.1027187 , ...,\n",
       "        396661.96148053, 669278.7823215 , 315154.81618841]))"
      ]
     },
     "execution_count": 41,
     "metadata": {},
     "output_type": "execute_result"
    }
   ],
   "source": [
    "evaluate_model(X_train_2_sc, X_test_2_sc, y_train, y_test)"
   ]
  },
  {
   "cell_type": "code",
   "execution_count": null,
   "metadata": {},
   "outputs": [],
   "source": [
    "evaluate_model(X_train_3_sc, X_test_3_sc, y_train, y_test)"
   ]
  },
  {
   "cell_type": "code",
   "execution_count": null,
   "metadata": {},
   "outputs": [],
   "source": [
    "y_train_log = np.log1p(y_train)\n",
    "y_test_log = np.log1p(y_test)"
   ]
  },
  {
   "cell_type": "code",
   "execution_count": null,
   "metadata": {
    "scrolled": true
   },
   "outputs": [],
   "source": [
    "evaluate_model(X_train_2_sc, X_test_2_sc, y_train_log, y_test_log)"
   ]
  },
  {
   "cell_type": "code",
   "execution_count": null,
   "metadata": {},
   "outputs": [],
   "source": [
    "evaluate_model(X_train_3_sc, X_test_3_sc, y_train_log, y_test_log)"
   ]
  },
  {
   "cell_type": "code",
   "execution_count": null,
   "metadata": {},
   "outputs": [],
   "source": [
    "model = sm.OLS(labels[:half], data[:half])\n",
    "predictions = model.predict(data[half:])"
   ]
  },
  {
   "cell_type": "code",
   "execution_count": null,
   "metadata": {},
   "outputs": [],
   "source": []
  }
 ],
 "metadata": {
  "kernelspec": {
   "display_name": "Python 3",
   "language": "python",
   "name": "python3"
  },
  "language_info": {
   "codemirror_mode": {
    "name": "ipython",
    "version": 3
   },
   "file_extension": ".py",
   "mimetype": "text/x-python",
   "name": "python",
   "nbconvert_exporter": "python",
   "pygments_lexer": "ipython3",
   "version": "3.8.5"
  }
 },
 "nbformat": 4,
 "nbformat_minor": 4
}
